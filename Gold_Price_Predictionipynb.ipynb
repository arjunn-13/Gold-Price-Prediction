{
  "nbformat": 4,
  "nbformat_minor": 0,
  "metadata": {
    "colab": {
      "name": "Gold Price Predictionipynb",
      "provenance": [],
      "collapsed_sections": [],
      "authorship_tag": "ABX9TyMUIIr9ObTAZCKo7cQ0PiBE",
      "include_colab_link": true
    },
    "kernelspec": {
      "name": "python3",
      "display_name": "Python 3"
    },
    "language_info": {
      "name": "python"
    }
  },
  "cells": [
    {
      "cell_type": "markdown",
      "metadata": {
        "id": "view-in-github",
        "colab_type": "text"
      },
      "source": [
        "<a href=\"https://colab.research.google.com/github/arjunn-13/Gold-Price-Prediction/blob/main/Gold_Price_Predictionipynb.ipynb\" target=\"_parent\"><img src=\"https://colab.research.google.com/assets/colab-badge.svg\" alt=\"Open In Colab\"/></a>"
      ]
    },
    {
      "cell_type": "code",
      "metadata": {
        "id": "I2zj3uDLEfWU"
      },
      "source": [
        "import numpy as np\n",
        "import pandas as pd\n",
        "import matplotlib.pyplot as plt\n",
        "import seaborn as sns\n",
        "from sklearn.model_selection import train_test_split\n",
        "from sklearn import metrics\n",
        "from sklearn.ensemble import RandomForestRegressor"
      ],
      "execution_count": 28,
      "outputs": []
    },
    {
      "cell_type": "markdown",
      "metadata": {
        "id": "DdtGPol8GZ_T"
      },
      "source": [
        "Data Collection and pre processing "
      ]
    },
    {
      "cell_type": "code",
      "metadata": {
        "id": "y3y6W8hPGXFr"
      },
      "source": [
        "gold_data= pd.read_csv('/content/gld_price_data.csv')"
      ],
      "execution_count": 29,
      "outputs": []
    },
    {
      "cell_type": "code",
      "metadata": {
        "colab": {
          "base_uri": "https://localhost:8080/",
          "height": 195
        },
        "id": "C4yXdlzpKAl6",
        "outputId": "c46f4e1d-37ee-4855-c61a-d8622fa6078c"
      },
      "source": [
        "# First five R & C \n",
        "gold_data.head()"
      ],
      "execution_count": 30,
      "outputs": [
        {
          "output_type": "execute_result",
          "data": {
            "text/html": [
              "<div>\n",
              "<style scoped>\n",
              "    .dataframe tbody tr th:only-of-type {\n",
              "        vertical-align: middle;\n",
              "    }\n",
              "\n",
              "    .dataframe tbody tr th {\n",
              "        vertical-align: top;\n",
              "    }\n",
              "\n",
              "    .dataframe thead th {\n",
              "        text-align: right;\n",
              "    }\n",
              "</style>\n",
              "<table border=\"1\" class=\"dataframe\">\n",
              "  <thead>\n",
              "    <tr style=\"text-align: right;\">\n",
              "      <th></th>\n",
              "      <th>Date</th>\n",
              "      <th>SPX</th>\n",
              "      <th>GLD</th>\n",
              "      <th>USO</th>\n",
              "      <th>SLV</th>\n",
              "      <th>EUR/USD</th>\n",
              "    </tr>\n",
              "  </thead>\n",
              "  <tbody>\n",
              "    <tr>\n",
              "      <th>0</th>\n",
              "      <td>1/2/2008</td>\n",
              "      <td>1447.160034</td>\n",
              "      <td>84.860001</td>\n",
              "      <td>78.470001</td>\n",
              "      <td>15.180</td>\n",
              "      <td>1.471692</td>\n",
              "    </tr>\n",
              "    <tr>\n",
              "      <th>1</th>\n",
              "      <td>1/3/2008</td>\n",
              "      <td>1447.160034</td>\n",
              "      <td>85.570000</td>\n",
              "      <td>78.370003</td>\n",
              "      <td>15.285</td>\n",
              "      <td>1.474491</td>\n",
              "    </tr>\n",
              "    <tr>\n",
              "      <th>2</th>\n",
              "      <td>1/4/2008</td>\n",
              "      <td>1411.630005</td>\n",
              "      <td>85.129997</td>\n",
              "      <td>77.309998</td>\n",
              "      <td>15.167</td>\n",
              "      <td>1.475492</td>\n",
              "    </tr>\n",
              "    <tr>\n",
              "      <th>3</th>\n",
              "      <td>1/7/2008</td>\n",
              "      <td>1416.180054</td>\n",
              "      <td>84.769997</td>\n",
              "      <td>75.500000</td>\n",
              "      <td>15.053</td>\n",
              "      <td>1.468299</td>\n",
              "    </tr>\n",
              "    <tr>\n",
              "      <th>4</th>\n",
              "      <td>1/8/2008</td>\n",
              "      <td>1390.189941</td>\n",
              "      <td>86.779999</td>\n",
              "      <td>76.059998</td>\n",
              "      <td>15.590</td>\n",
              "      <td>1.557099</td>\n",
              "    </tr>\n",
              "  </tbody>\n",
              "</table>\n",
              "</div>"
            ],
            "text/plain": [
              "       Date          SPX        GLD        USO     SLV   EUR/USD\n",
              "0  1/2/2008  1447.160034  84.860001  78.470001  15.180  1.471692\n",
              "1  1/3/2008  1447.160034  85.570000  78.370003  15.285  1.474491\n",
              "2  1/4/2008  1411.630005  85.129997  77.309998  15.167  1.475492\n",
              "3  1/7/2008  1416.180054  84.769997  75.500000  15.053  1.468299\n",
              "4  1/8/2008  1390.189941  86.779999  76.059998  15.590  1.557099"
            ]
          },
          "metadata": {
            "tags": []
          },
          "execution_count": 30
        }
      ]
    },
    {
      "cell_type": "code",
      "metadata": {
        "colab": {
          "base_uri": "https://localhost:8080/",
          "height": 195
        },
        "id": "Ez5OO3ZRKTMA",
        "outputId": "c075e2ee-9dd2-4ec3-91bf-891c42c13bf8"
      },
      "source": [
        "# Last five R & C\n",
        "gold_data.tail()"
      ],
      "execution_count": 31,
      "outputs": [
        {
          "output_type": "execute_result",
          "data": {
            "text/html": [
              "<div>\n",
              "<style scoped>\n",
              "    .dataframe tbody tr th:only-of-type {\n",
              "        vertical-align: middle;\n",
              "    }\n",
              "\n",
              "    .dataframe tbody tr th {\n",
              "        vertical-align: top;\n",
              "    }\n",
              "\n",
              "    .dataframe thead th {\n",
              "        text-align: right;\n",
              "    }\n",
              "</style>\n",
              "<table border=\"1\" class=\"dataframe\">\n",
              "  <thead>\n",
              "    <tr style=\"text-align: right;\">\n",
              "      <th></th>\n",
              "      <th>Date</th>\n",
              "      <th>SPX</th>\n",
              "      <th>GLD</th>\n",
              "      <th>USO</th>\n",
              "      <th>SLV</th>\n",
              "      <th>EUR/USD</th>\n",
              "    </tr>\n",
              "  </thead>\n",
              "  <tbody>\n",
              "    <tr>\n",
              "      <th>2285</th>\n",
              "      <td>5/8/2018</td>\n",
              "      <td>2671.919922</td>\n",
              "      <td>124.589996</td>\n",
              "      <td>14.0600</td>\n",
              "      <td>15.5100</td>\n",
              "      <td>1.186789</td>\n",
              "    </tr>\n",
              "    <tr>\n",
              "      <th>2286</th>\n",
              "      <td>5/9/2018</td>\n",
              "      <td>2697.790039</td>\n",
              "      <td>124.330002</td>\n",
              "      <td>14.3700</td>\n",
              "      <td>15.5300</td>\n",
              "      <td>1.184722</td>\n",
              "    </tr>\n",
              "    <tr>\n",
              "      <th>2287</th>\n",
              "      <td>5/10/2018</td>\n",
              "      <td>2723.070068</td>\n",
              "      <td>125.180000</td>\n",
              "      <td>14.4100</td>\n",
              "      <td>15.7400</td>\n",
              "      <td>1.191753</td>\n",
              "    </tr>\n",
              "    <tr>\n",
              "      <th>2288</th>\n",
              "      <td>5/14/2018</td>\n",
              "      <td>2730.129883</td>\n",
              "      <td>124.489998</td>\n",
              "      <td>14.3800</td>\n",
              "      <td>15.5600</td>\n",
              "      <td>1.193118</td>\n",
              "    </tr>\n",
              "    <tr>\n",
              "      <th>2289</th>\n",
              "      <td>5/16/2018</td>\n",
              "      <td>2725.780029</td>\n",
              "      <td>122.543800</td>\n",
              "      <td>14.4058</td>\n",
              "      <td>15.4542</td>\n",
              "      <td>1.182033</td>\n",
              "    </tr>\n",
              "  </tbody>\n",
              "</table>\n",
              "</div>"
            ],
            "text/plain": [
              "           Date          SPX         GLD      USO      SLV   EUR/USD\n",
              "2285   5/8/2018  2671.919922  124.589996  14.0600  15.5100  1.186789\n",
              "2286   5/9/2018  2697.790039  124.330002  14.3700  15.5300  1.184722\n",
              "2287  5/10/2018  2723.070068  125.180000  14.4100  15.7400  1.191753\n",
              "2288  5/14/2018  2730.129883  124.489998  14.3800  15.5600  1.193118\n",
              "2289  5/16/2018  2725.780029  122.543800  14.4058  15.4542  1.182033"
            ]
          },
          "metadata": {
            "tags": []
          },
          "execution_count": 31
        }
      ]
    },
    {
      "cell_type": "code",
      "metadata": {
        "colab": {
          "base_uri": "https://localhost:8080/"
        },
        "id": "38Xf2WcSK3kY",
        "outputId": "03405281-5fe5-4158-cb18-dbc53de1f31f"
      },
      "source": [
        "# Number of R & C\n",
        "gold_data.shape"
      ],
      "execution_count": 32,
      "outputs": [
        {
          "output_type": "execute_result",
          "data": {
            "text/plain": [
              "(2290, 6)"
            ]
          },
          "metadata": {
            "tags": []
          },
          "execution_count": 32
        }
      ]
    },
    {
      "cell_type": "code",
      "metadata": {
        "colab": {
          "base_uri": "https://localhost:8080/"
        },
        "id": "IEtEA4_PKhxI",
        "outputId": "a9df47d1-c209-4280-ba54-69a67b271018"
      },
      "source": [
        "# Some basic info on the data \n",
        "gold_data.info()"
      ],
      "execution_count": 33,
      "outputs": [
        {
          "output_type": "stream",
          "text": [
            "<class 'pandas.core.frame.DataFrame'>\n",
            "RangeIndex: 2290 entries, 0 to 2289\n",
            "Data columns (total 6 columns):\n",
            " #   Column   Non-Null Count  Dtype  \n",
            "---  ------   --------------  -----  \n",
            " 0   Date     2290 non-null   object \n",
            " 1   SPX      2290 non-null   float64\n",
            " 2   GLD      2290 non-null   float64\n",
            " 3   USO      2290 non-null   float64\n",
            " 4   SLV      2290 non-null   float64\n",
            " 5   EUR/USD  2290 non-null   float64\n",
            "dtypes: float64(5), object(1)\n",
            "memory usage: 107.5+ KB\n"
          ],
          "name": "stdout"
        }
      ]
    },
    {
      "cell_type": "code",
      "metadata": {
        "colab": {
          "base_uri": "https://localhost:8080/"
        },
        "id": "JZxomrA0KoSA",
        "outputId": "9cc3cf58-6ac4-4ad3-bbb8-78c983ec95bf"
      },
      "source": [
        "# Checking for null values\n",
        "gold_data.isnull().sum()"
      ],
      "execution_count": 34,
      "outputs": [
        {
          "output_type": "execute_result",
          "data": {
            "text/plain": [
              "Date       0\n",
              "SPX        0\n",
              "GLD        0\n",
              "USO        0\n",
              "SLV        0\n",
              "EUR/USD    0\n",
              "dtype: int64"
            ]
          },
          "metadata": {
            "tags": []
          },
          "execution_count": 34
        }
      ]
    },
    {
      "cell_type": "code",
      "metadata": {
        "colab": {
          "base_uri": "https://localhost:8080/",
          "height": 284
        },
        "id": "Bz3QMcHCLBD5",
        "outputId": "699e6248-d13b-4a45-b514-c568a8efe104"
      },
      "source": [
        "# Statistical measurements \n",
        "gold_data.describe()"
      ],
      "execution_count": 35,
      "outputs": [
        {
          "output_type": "execute_result",
          "data": {
            "text/html": [
              "<div>\n",
              "<style scoped>\n",
              "    .dataframe tbody tr th:only-of-type {\n",
              "        vertical-align: middle;\n",
              "    }\n",
              "\n",
              "    .dataframe tbody tr th {\n",
              "        vertical-align: top;\n",
              "    }\n",
              "\n",
              "    .dataframe thead th {\n",
              "        text-align: right;\n",
              "    }\n",
              "</style>\n",
              "<table border=\"1\" class=\"dataframe\">\n",
              "  <thead>\n",
              "    <tr style=\"text-align: right;\">\n",
              "      <th></th>\n",
              "      <th>SPX</th>\n",
              "      <th>GLD</th>\n",
              "      <th>USO</th>\n",
              "      <th>SLV</th>\n",
              "      <th>EUR/USD</th>\n",
              "    </tr>\n",
              "  </thead>\n",
              "  <tbody>\n",
              "    <tr>\n",
              "      <th>count</th>\n",
              "      <td>2290.000000</td>\n",
              "      <td>2290.000000</td>\n",
              "      <td>2290.000000</td>\n",
              "      <td>2290.000000</td>\n",
              "      <td>2290.000000</td>\n",
              "    </tr>\n",
              "    <tr>\n",
              "      <th>mean</th>\n",
              "      <td>1654.315776</td>\n",
              "      <td>122.732875</td>\n",
              "      <td>31.842221</td>\n",
              "      <td>20.084997</td>\n",
              "      <td>1.283653</td>\n",
              "    </tr>\n",
              "    <tr>\n",
              "      <th>std</th>\n",
              "      <td>519.111540</td>\n",
              "      <td>23.283346</td>\n",
              "      <td>19.523517</td>\n",
              "      <td>7.092566</td>\n",
              "      <td>0.131547</td>\n",
              "    </tr>\n",
              "    <tr>\n",
              "      <th>min</th>\n",
              "      <td>676.530029</td>\n",
              "      <td>70.000000</td>\n",
              "      <td>7.960000</td>\n",
              "      <td>8.850000</td>\n",
              "      <td>1.039047</td>\n",
              "    </tr>\n",
              "    <tr>\n",
              "      <th>25%</th>\n",
              "      <td>1239.874969</td>\n",
              "      <td>109.725000</td>\n",
              "      <td>14.380000</td>\n",
              "      <td>15.570000</td>\n",
              "      <td>1.171313</td>\n",
              "    </tr>\n",
              "    <tr>\n",
              "      <th>50%</th>\n",
              "      <td>1551.434998</td>\n",
              "      <td>120.580002</td>\n",
              "      <td>33.869999</td>\n",
              "      <td>17.268500</td>\n",
              "      <td>1.303296</td>\n",
              "    </tr>\n",
              "    <tr>\n",
              "      <th>75%</th>\n",
              "      <td>2073.010070</td>\n",
              "      <td>132.840004</td>\n",
              "      <td>37.827501</td>\n",
              "      <td>22.882499</td>\n",
              "      <td>1.369971</td>\n",
              "    </tr>\n",
              "    <tr>\n",
              "      <th>max</th>\n",
              "      <td>2872.870117</td>\n",
              "      <td>184.589996</td>\n",
              "      <td>117.480003</td>\n",
              "      <td>47.259998</td>\n",
              "      <td>1.598798</td>\n",
              "    </tr>\n",
              "  </tbody>\n",
              "</table>\n",
              "</div>"
            ],
            "text/plain": [
              "               SPX          GLD          USO          SLV      EUR/USD\n",
              "count  2290.000000  2290.000000  2290.000000  2290.000000  2290.000000\n",
              "mean   1654.315776   122.732875    31.842221    20.084997     1.283653\n",
              "std     519.111540    23.283346    19.523517     7.092566     0.131547\n",
              "min     676.530029    70.000000     7.960000     8.850000     1.039047\n",
              "25%    1239.874969   109.725000    14.380000    15.570000     1.171313\n",
              "50%    1551.434998   120.580002    33.869999    17.268500     1.303296\n",
              "75%    2073.010070   132.840004    37.827501    22.882499     1.369971\n",
              "max    2872.870117   184.589996   117.480003    47.259998     1.598798"
            ]
          },
          "metadata": {
            "tags": []
          },
          "execution_count": 35
        }
      ]
    },
    {
      "cell_type": "code",
      "metadata": {
        "id": "CdSziawdLePP"
      },
      "source": [
        "# Correlation\n",
        "correlation= gold_data.corr()"
      ],
      "execution_count": 36,
      "outputs": []
    },
    {
      "cell_type": "code",
      "metadata": {
        "colab": {
          "base_uri": "https://localhost:8080/",
          "height": 595
        },
        "id": "xw7lftb6Ll_g",
        "outputId": "43e6a3af-4c3b-4e3b-fe30-38b70ccde33f"
      },
      "source": [
        "# Constructing a heatmap to find the correlation \n",
        "plt.figure(figsize=(10,10))\n",
        "sns.heatmap(correlation, cmap='Greens',center=True,annot=True, fmt='.1f',annot_kws={'size':8} ,cbar=True,square=True)"
      ],
      "execution_count": 37,
      "outputs": [
        {
          "output_type": "execute_result",
          "data": {
            "text/plain": [
              "<matplotlib.axes._subplots.AxesSubplot at 0x7fd29f7ed090>"
            ]
          },
          "metadata": {
            "tags": []
          },
          "execution_count": 37
        },
        {
          "output_type": "display_data",
          "data": {
            "image/png": "[encoded data removed]",
            "text/plain": [
              "<Figure size 720x720 with 2 Axes>"
            ]
          },
          "metadata": {
            "tags": [],
            "needs_background": "light"
          }
        }
      ]
    },
    {
      "cell_type": "code",
      "metadata": {
        "colab": {
          "base_uri": "https://localhost:8080/"
        },
        "id": "Wq1wb89-RZet",
        "outputId": "7d57f4c5-7e1a-49c4-ee58-4e27f0a7481c"
      },
      "source": [
        "# Correlation on values of gold\n",
        "print(correlation['GLD'])"
      ],
      "execution_count": 38,
      "outputs": [
        {
          "output_type": "stream",
          "text": [
            "SPX        0.049345\n",
            "GLD        1.000000\n",
            "USO       -0.186360\n",
            "SLV        0.866632\n",
            "EUR/USD   -0.024375\n",
            "Name: GLD, dtype: float64\n"
          ],
          "name": "stdout"
        }
      ]
    },
    {
      "cell_type": "code",
      "metadata": {
        "colab": {
          "base_uri": "https://localhost:8080/",
          "height": 386
        },
        "id": "NsOnUto1R3vX",
        "outputId": "bf979105-038e-484c-9477-18ba85109487"
      },
      "source": [
        "# Checking the distribution of gold price\n",
        "sns.displot(gold_data['GLD'], color='Green')"
      ],
      "execution_count": 39,
      "outputs": [
        {
          "output_type": "execute_result",
          "data": {
            "text/plain": [
              "<seaborn.axisgrid.FacetGrid at 0x7fd29f5f0890>"
            ]
          },
          "metadata": {
            "tags": []
          },
          "execution_count": 39
        },
        {
          "output_type": "display_data",
          "data": {
            "image/png": "[encoded data removed]",
            "text/plain": [
              "<Figure size 360x360 with 1 Axes>"
            ]
          },
          "metadata": {
            "tags": [],
            "needs_background": "light"
          }
        }
      ]
    },
    {
      "cell_type": "markdown",
      "metadata": {
        "id": "TJeL280jS2jW"
      },
      "source": [
        "Spliting the data "
      ]
    },
    {
      "cell_type": "code",
      "metadata": {
        "colab": {
          "base_uri": "https://localhost:8080/"
        },
        "id": "EToEH3H7Swcn",
        "outputId": "83698fea-7dd0-4e06-edf0-11905b2f5f25"
      },
      "source": [
        "X = gold_data.drop(['GLD','Date'],axis=1)\n",
        "Y= gold_data['GLD']\n",
        "print(X)\n",
        "print(Y)"
      ],
      "execution_count": 40,
      "outputs": [
        {
          "output_type": "stream",
          "text": [
            "              SPX        USO      SLV   EUR/USD\n",
            "0     1447.160034  78.470001  15.1800  1.471692\n",
            "1     1447.160034  78.370003  15.2850  1.474491\n",
            "2     1411.630005  77.309998  15.1670  1.475492\n",
            "3     1416.180054  75.500000  15.0530  1.468299\n",
            "4     1390.189941  76.059998  15.5900  1.557099\n",
            "...           ...        ...      ...       ...\n",
            "2285  2671.919922  14.060000  15.5100  1.186789\n",
            "2286  2697.790039  14.370000  15.5300  1.184722\n",
            "2287  2723.070068  14.410000  15.7400  1.191753\n",
            "2288  2730.129883  14.380000  15.5600  1.193118\n",
            "2289  2725.780029  14.405800  15.4542  1.182033\n",
            "\n",
            "[2290 rows x 4 columns]\n",
            "0        84.860001\n",
            "1        85.570000\n",
            "2        85.129997\n",
            "3        84.769997\n",
            "4        86.779999\n",
            "           ...    \n",
            "2285    124.589996\n",
            "2286    124.330002\n",
            "2287    125.180000\n",
            "2288    124.489998\n",
            "2289    122.543800\n",
            "Name: GLD, Length: 2290, dtype: float64\n"
          ],
          "name": "stdout"
        }
      ]
    },
    {
      "cell_type": "markdown",
      "metadata": {
        "id": "GoKkLWk4TVL2"
      },
      "source": [
        "Training and Training Data"
      ]
    },
    {
      "cell_type": "code",
      "metadata": {
        "id": "bMc5p7mqTQ6M"
      },
      "source": [
        "X_train,X_test,Y_train,Y_test= train_test_split(X,Y,test_size=0.2,random_state=2)"
      ],
      "execution_count": 41,
      "outputs": []
    },
    {
      "cell_type": "markdown",
      "metadata": {
        "id": "PQ7p0NwJUId7"
      },
      "source": [
        "Model training"
      ]
    },
    {
      "cell_type": "code",
      "metadata": {
        "id": "xuG20PAzUEas"
      },
      "source": [
        "model= RandomForestRegressor(n_estimators=100)"
      ],
      "execution_count": 44,
      "outputs": []
    },
    {
      "cell_type": "code",
      "metadata": {
        "colab": {
          "base_uri": "https://localhost:8080/"
        },
        "id": "3IkMUridVizD",
        "outputId": "8bbc538c-a566-4961-a8d4-80cf3a9f32c4"
      },
      "source": [
        "# Training \n",
        "model.fit(X_train,Y_train)"
      ],
      "execution_count": 45,
      "outputs": [
        {
          "output_type": "execute_result",
          "data": {
            "text/plain": [
              "RandomForestRegressor(bootstrap=True, ccp_alpha=0.0, criterion='mse',\n",
              "                      max_depth=None, max_features='auto', max_leaf_nodes=None,\n",
              "                      max_samples=None, min_impurity_decrease=0.0,\n",
              "                      min_impurity_split=None, min_samples_leaf=1,\n",
              "                      min_samples_split=2, min_weight_fraction_leaf=0.0,\n",
              "                      n_estimators=100, n_jobs=None, oob_score=False,\n",
              "                      random_state=None, verbose=0, warm_start=False)"
            ]
          },
          "metadata": {
            "tags": []
          },
          "execution_count": 45
        }
      ]
    },
    {
      "cell_type": "code",
      "metadata": {
        "colab": {
          "base_uri": "https://localhost:8080/"
        },
        "id": "-BBPNjvV0XWF",
        "outputId": "7b77eaf5-e0b0-4b62-ae14-749c5432ac85"
      },
      "source": [
        "# Prediction\n",
        "test_data_prediction= model.predict(X_test)\n",
        "print(test_data_prediction)"
      ],
      "execution_count": 46,
      "outputs": [
        {
          "output_type": "stream",
          "text": [
            "[168.71629918  81.73700003 116.17990032 127.66670028 120.57540133\n",
            " 154.65599757 150.23179854 126.32060021 117.51199868 126.1190005\n",
            " 116.64850115 171.86520064 141.54459844 167.90919904 115.24740024\n",
            " 117.28750058 137.59760347 170.03950066 159.77380329 158.83249931\n",
            " 155.13180065 125.32680025 176.13659951 157.7394034  125.25480047\n",
            "  93.85499962  76.99040023 120.68559988 119.04799946 167.47979993\n",
            "  88.19700047 125.06619996  91.05580067 117.68170025 121.15789959\n",
            " 136.1233011  115.27700137 115.27040058 149.44669938 107.06160061\n",
            " 104.81590277  87.2130978  126.53260006 118.1305999  152.37409912\n",
            " 119.56990036 108.35899999 108.18319846  93.07940019 127.22249763\n",
            "  74.92070027 113.61189909 121.4258     111.28399927 118.84179887\n",
            " 120.43999971 160.17860023 168.38460082 147.12009704  85.71529863\n",
            "  94.36990036  86.87449914  90.61630069 118.74950086 126.40460069\n",
            " 127.53360006 169.60039986 122.31629952 117.39529929  98.04950037\n",
            " 168.66240158 143.14759877 132.11340217 121.2064023  121.12559966\n",
            " 119.6486006  114.42610163 118.40080078 107.25860076 127.91540102\n",
            " 114.04109949 106.68829984 116.8218008  119.67759863  89.27380125\n",
            "  88.17519833 146.51920256 127.2122003  113.47210042 110.30659838\n",
            " 107.98429892  77.27749908 170.12030195 114.01379901 121.73489884\n",
            " 127.90000158 154.87679776  91.67049968 135.39220087 158.68070323\n",
            " 125.86710038 124.9068008  130.70380181 114.90710127 119.80019963\n",
            "  92.21799975 110.43069863 166.05389891 156.27269928 114.06869952\n",
            " 106.56620165  79.70029986 113.46050043 125.82480074 107.11109911\n",
            " 119.49650076 155.2450031  159.27529825 120.4141998  133.72560329\n",
            " 101.3721     117.81239783 119.33909987 112.99440073 102.79039928\n",
            " 160.24049774  99.11170016 147.78669909 125.19300116 170.08279911\n",
            " 125.62109926 127.29489777 127.44870159 113.84919931 112.78300082\n",
            " 123.44079917 102.17969878  89.22830025 124.90439942 101.16209919\n",
            " 106.67669914 113.34040067 117.28070062  98.77099938 121.89190033\n",
            " 163.53419976  87.38059891 106.7935999  117.16570084 127.76190104\n",
            " 124.15060076  80.79909951 120.12410066 157.99299837  88.12179951\n",
            " 110.26469948 118.66849885 172.5113987  102.97129916 105.72400063\n",
            " 122.58860021 157.64739809  87.55399841  93.12010036 112.76080027\n",
            " 177.03679918 114.67409968 119.36170003  94.89640112 125.72810036\n",
            " 166.35670087 114.91720072 116.65010152  88.28519844 149.18070051\n",
            " 120.29929961  89.56349975 112.64910027 117.47140036 118.8192011\n",
            "  88.09869928  94.29670016 117.2385004  118.57680172 120.38300057\n",
            " 126.83359826 121.9197999  150.90189983 165.21199981 118.54949966\n",
            " 120.34190146 149.82890031 118.46049903 172.62619939 104.79489924\n",
            " 105.04670102 149.56990111 113.93860059 124.943201   148.19519929\n",
            " 119.70640126 115.37410013 112.81320026 113.54960222 142.30000192\n",
            " 117.86619762 102.91060047 115.8244009  104.17970184  98.72190034\n",
            " 117.38510088  90.70709994  91.22260019 153.2430994  102.75419975\n",
            " 154.86080086 114.41620158 138.29310106  90.08849804 115.47669948\n",
            " 114.73369964 122.63950058 121.72960008 165.39480191  92.89309942\n",
            " 134.87450118 121.41969916 120.9712004  104.5660002  144.93980252\n",
            " 121.6880993  116.69520046 113.71870048 127.13439784 122.52389933\n",
            " 125.74249932 121.25540028  86.8351992  132.2518021  142.44870289\n",
            "  92.75819956 159.1614002  158.71610252 126.58919887 165.65259906\n",
            " 109.09519931 109.76530076 103.61929836  94.51540052 127.66120277\n",
            " 107.02100075 162.65150018 121.87300044 132.00640028 130.74720131\n",
            " 160.54870039  90.24999851 174.54340215 127.60030026 126.69459873\n",
            "  86.4509992  124.75419909 150.45629726  89.69679998 106.92869958\n",
            " 109.10239996  84.23489911 136.13939921 154.93840255 142.33210275\n",
            "  73.91350037 152.06060102 126.36119969 126.76010011 127.52779917\n",
            " 108.62329956 156.22510001 114.49220146 117.01180142 124.84729925\n",
            " 154.09920073 121.26950006 156.44079866  92.94440065 125.52200154\n",
            " 125.71820008  87.92700063  92.1043992  126.36639917 127.91630253\n",
            " 113.00459975 117.49899729 121.11830006 127.09179796 119.48290141\n",
            " 136.05660111  93.91629932 119.93540053 113.31510118  94.45599952\n",
            " 109.04609995  87.04689951 109.15939936  89.54619986  92.44290022\n",
            " 131.82430269 162.38630003  89.34040031 119.74580096 133.49920185\n",
            " 123.8944003  128.47100217 101.89429822  88.9362984  132.01510088\n",
            " 120.11960003 108.87860027 169.04120163 115.11520062  86.56439869\n",
            " 118.86510049  91.21699941 161.48790076 116.53630046 121.53449998\n",
            " 160.0895973  120.12249946 112.8875993  108.39469846 126.62739938\n",
            "  76.25700031 103.01259993 127.52690237 121.79929942  92.59110024\n",
            " 132.06400074 118.07280113 116.16919992 154.39840249 159.93420074\n",
            " 109.93699964 152.70309803 119.40180071 160.25270055 118.33040033\n",
            " 158.68629998 115.18369902 116.24310033 148.893499   114.9706005\n",
            " 125.6823984  166.17009901 117.86780004 125.09529946 153.32790299\n",
            " 153.49590172 132.12510035 114.81240057 121.35550201 124.86820087\n",
            "  89.51310124 123.01110029 154.93620198 111.74070047 106.8407997\n",
            " 161.55730092 118.58129967 165.74710047 134.13750111 114.96609966\n",
            " 152.94079862 168.9296008  114.7049     114.09800117 159.16279898\n",
            "  85.23459878 127.07310076 127.99320032 128.8345009  124.58950073\n",
            " 123.68020076  90.44690089 153.2001004   97.13429982 137.35819946\n",
            "  89.25519927 106.67999981 114.94940004 112.68250097 124.18999923\n",
            "  91.47439898 125.43200136 162.32529876 119.96969897 165.0825009\n",
            " 126.8122982  112.42450036 127.60349921  94.96309904  91.00160029\n",
            " 102.99469885 120.89739989  83.22519954 126.2829999  160.62660453\n",
            " 117.32320113 118.37809973 119.92269975 122.58629944 120.18210131\n",
            " 121.48940019 118.22260021 107.09849992 148.09899972 125.9458988\n",
            " 115.64090098  73.87759996 127.79420115 153.85110066 122.58679993\n",
            " 125.54340047  88.80080009 103.79099879 124.22580062 120.29910024\n",
            "  73.20550077 151.16930005 121.13130048 104.59660004  86.38479796\n",
            " 115.02739921 172.16839844 119.84570043 160.06519693 113.18229972\n",
            " 120.90210028 118.64270123  95.97369977 119.2309999  125.88660018\n",
            " 118.48889941  95.96470052 153.91360205 122.1896005  147.44059953\n",
            " 159.23300236 113.74430042 122.53299944 149.36699822 127.16640051\n",
            " 165.73570055 136.12000062 120.13699982 167.19959877 108.42689917\n",
            " 121.76769853 141.9561013  106.95699885]\n"
          ],
          "name": "stdout"
        }
      ]
    },
    {
      "cell_type": "code",
      "metadata": {
        "colab": {
          "base_uri": "https://localhost:8080/"
        },
        "id": "_KD932AL1PGL",
        "outputId": "62530f22-b60f-4953-b569-96b286a4b850"
      },
      "source": [
        "# R squared error\n",
        "error_score= metrics.r2_score(Y_test,test_data_prediction)\n",
        "print('R sqaured error : ' , error_score)"
      ],
      "execution_count": 50,
      "outputs": [
        {
          "output_type": "stream",
          "text": [
            "R sqaured error :  0.9884976582941895\n"
          ],
          "name": "stdout"
        }
      ]
    },
    {
      "cell_type": "code",
      "metadata": {
        "colab": {
          "base_uri": "https://localhost:8080/",
          "height": 295
        },
        "id": "jIa9agJk3YTE",
        "outputId": "7afc64c3-0a01-40d8-fb80-f86ad54def61"
      },
      "source": [
        "# Graphical Analysis on Actual Price and predicted price\n",
        "plt.plot(Y_test, label='Actual Values', color='Blue')\n",
        "plt.plot(test_data_prediction, label='Predicted Values', color='green')\n",
        "plt.xlabel('Actual Values')\n",
        "plt.ylabel('Predicted Values')\n",
        "plt.title('GLD VALUE PREDICTION')\n",
        "plt.legend()\n",
        "plt.show()\n"
      ],
      "execution_count": 56,
      "outputs": [
        {
          "output_type": "display_data",
          "data": {
            "image/png": "[encoded data removed]",
            "text/plain": [
              "<Figure size 432x288 with 1 Axes>"
            ]
          },
          "metadata": {
            "tags": [],
            "needs_background": "light"
          }
        }
      ]
    }
  ]
}